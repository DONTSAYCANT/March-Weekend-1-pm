{
 "cells": [
  {
   "cell_type": "code",
   "execution_count": null,
   "metadata": {},
   "outputs": [],
   "source": [
    "#Hackerrank account creation\n",
    "\n",
    "\n",
    "https://www.hackerrank.com/  ==> signup + login\n",
    "    \n",
    "    350 - 400 points in python\n",
    "    300 - 400 points in regex\n",
    "\n",
    "\n",
    "#Github account creation and repo creation\n",
    "\n",
    "https://github.com/  ==> signup + login\n",
    "    \n",
    "Your repositories ==> repo name  ===> public ==> Add read me file  ==> create\n",
    "\n",
    "\n",
    "#Python installation\n",
    "\n",
    "#IDE\n",
    " \n",
    "#IDLE  https://www.python.org/downloads/\n",
    "#pycharm\n",
    "#jupyter notebook\n",
    "\n",
    "\n",
    "\n",
    "\n",
    "#Topics / Task section file creation and file upload in repo\n",
    "\n",
    "https://github.com/DONTSAYCANT/January-8-am\n"
   ]
  },
  {
   "cell_type": "code",
   "execution_count": null,
   "metadata": {},
   "outputs": [],
   "source": [
    "#programming ?\n",
    "\n",
    "Automate the task\n",
    "set of instruction to system\n",
    "\n",
    "\n",
    "\n",
    "#why Python programming ? \n",
    "\n",
    "inbuilt functions / library rich \n",
    "\n",
    "Application: big data data science time series AI ML DL\n",
    "    \n",
    "Syntax is simple , high level language\n",
    "    \n",
    "Full stack dev, Testing, Devops, data science\n"
   ]
  },
  {
   "cell_type": "code",
   "execution_count": null,
   "metadata": {},
   "outputs": [],
   "source": [
    "#programming basics : \n",
    "variable:\n",
    "    \n",
    "    \n",
    "data type  ===> types int float string char boolean complex\n",
    "\n",
    "\n",
    "operator ternary/Arithmetic/comparison/logical/assignment/membership\n",
    "\n",
    "\n",
    "Data structure ===> basic List tuple dictionary set\n",
    "\n",
    "\n",
    "function ===> inbuilt function user def recursive function\n",
    "\n",
    "\n",
    "\n",
    "#Comments single line multi line comment\n",
    "#print function ==> end spe\n",
    "#len function\n",
    "#type function\n",
    "#input function\n",
    "#data type conversions\n",
    "#formatting output\n",
    "#basic pgms"
   ]
  },
  {
   "cell_type": "code",
   "execution_count": null,
   "metadata": {},
   "outputs": [],
   "source": [
    "#Variable: value keeps changing, bucket/storage to store values\n",
    "#Rules for creating variables in python\n",
    "\n",
    "\n",
    "#Operator\n",
    "ternary/Arithmetic/comparison/logical/assignment/membership\n",
    "\n",
    "\n",
    "#Data type:"
   ]
  },
  {
   "cell_type": "code",
   "execution_count": 5,
   "metadata": {},
   "outputs": [
    {
     "name": "stdout",
     "output_type": "stream",
     "text": [
      "30\n"
     ]
    }
   ],
   "source": [
    "#Add two values\n",
    "\n",
    "\n",
    "number1 = 10 #assignment operator\n",
    "number2 = 20\n",
    "\n",
    "addition_numbers = number1 + number2\n",
    "\n",
    "print(addition_numbers) #inbuilt function to display"
   ]
  },
  {
   "cell_type": "code",
   "execution_count": null,
   "metadata": {},
   "outputs": [],
   "source": [
    "#Give good names to the variable (project related words)\n",
    "\n",
    "#Dont use keywords or reserved words or any function name  ===> for while class \n",
    "  https://www.w3schools.com/python/python_ref_keywords.asp\n",
    "\n",
    "#variable can use a-zA-Z0-9_ (alphanumeric) (Special char should not be there)\n",
    "\n",
    "#variable should start with a-z or A-Z or _ (you should not start with 0-9)\n",
    "\n",
    "#you should not have any spaces (_ are allowed)\n",
    "\n",
    "#camelCase\n",
    "\n",
    "#variable case sensitive\n",
    "\n",
    "a = 10\n",
    "\n",
    "A = 20\n"
   ]
  },
  {
   "cell_type": "code",
   "execution_count": 3,
   "metadata": {},
   "outputs": [
    {
     "name": "stdout",
     "output_type": "stream",
     "text": [
      "10\n"
     ]
    }
   ],
   "source": [
    "var1 = 10\n",
    "print(var1)"
   ]
  },
  {
   "cell_type": "code",
   "execution_count": 4,
   "metadata": {},
   "outputs": [
    {
     "ename": "SyntaxError",
     "evalue": "invalid syntax (<ipython-input-4-73af354ae2e7>, line 1)",
     "output_type": "error",
     "traceback": [
      "\u001b[1;36m  File \u001b[1;32m\"<ipython-input-4-73af354ae2e7>\"\u001b[1;36m, line \u001b[1;32m1\u001b[0m\n\u001b[1;33m    1var = 10\u001b[0m\n\u001b[1;37m       ^\u001b[0m\n\u001b[1;31mSyntaxError\u001b[0m\u001b[1;31m:\u001b[0m invalid syntax\n"
     ]
    }
   ],
   "source": [
    "1var = 10\n",
    "print(1var)"
   ]
  },
  {
   "cell_type": "code",
   "execution_count": null,
   "metadata": {},
   "outputs": [],
   "source": [
    "userInputInteger = 10"
   ]
  },
  {
   "cell_type": "code",
   "execution_count": null,
   "metadata": {},
   "outputs": [],
   "source": [
    "input_integer = 10\n",
    "print()"
   ]
  },
  {
   "cell_type": "code",
   "execution_count": null,
   "metadata": {},
   "outputs": [],
   "source": [
    "input_integer = 10\n",
    "\n",
    "print()"
   ]
  },
  {
   "cell_type": "code",
   "execution_count": null,
   "metadata": {},
   "outputs": [],
   "source": [
    "#camelCase\n",
    "\n",
    "suiteNameInital = \"var\"\n",
    "\n",
    "variableCreationForFileHandlingPurpose\n",
    "\n",
    "inputInteger = 10"
   ]
  },
  {
   "cell_type": "markdown",
   "metadata": {},
   "source": [
    "## Data Type"
   ]
  },
  {
   "cell_type": "code",
   "execution_count": null,
   "metadata": {},
   "outputs": [],
   "source": [
    "dynamic typing\n",
    "Type checking"
   ]
  },
  {
   "cell_type": "code",
   "execution_count": 6,
   "metadata": {},
   "outputs": [
    {
     "name": "stdout",
     "output_type": "stream",
     "text": [
      "140720392545104\n",
      "140720392545264\n"
     ]
    }
   ],
   "source": [
    "a = 10\n",
    "\n",
    "b = 10\n",
    "\n",
    "\n",
    "a = a + 5\n",
    "\n",
    "b = b + 10\n",
    "\n",
    "print(id(a))\n",
    "\n",
    "print(id(b))"
   ]
  },
  {
   "cell_type": "code",
   "execution_count": null,
   "metadata": {},
   "outputs": [],
   "source": [
    "#key words or reserved words: \n",
    "\n",
    "#for while def import class "
   ]
  },
  {
   "cell_type": "code",
   "execution_count": null,
   "metadata": {},
   "outputs": [],
   "source": [
    "data type  ===> types int float string char boolean complex\n",
    "\n",
    "\n",
    "#type of data\n",
    "\n",
    "#int      9 10 20 -30\n",
    "#float    20.99  45.89\n",
    "#boolean   True False\n",
    "#complex   5 + 4 j (real and imaginary)\n",
    "#string     string data type ?  ==> common data type\n",
    "\n",
    "array of characters\n",
    "set of chars\n",
    "collection of chars\n",
    "\n",
    "Char ===> \n",
    "\n",
    "whatever you're writing within \"string \" ' string '\n",
    "\n",
    "d = \"50\"\n",
    "\n",
    "e = \"True\"\n",
    "\n",
    "f = \"5 + 50 j\"\n",
    "\n",
    "c = \"hello world\"\n",
    "\n"
   ]
  },
  {
   "cell_type": "code",
   "execution_count": 9,
   "metadata": {},
   "outputs": [
    {
     "name": "stdout",
     "output_type": "stream",
     "text": [
      "(5+5j)\n",
      "<class 'complex'>\n",
      "5.0\n",
      "5.0\n"
     ]
    }
   ],
   "source": [
    "a = 5  + 5j\n",
    "print(a)\n",
    "print(type(a))\n",
    "print(a.real)\n",
    "print(a.imag)"
   ]
  },
  {
   "cell_type": "code",
   "execution_count": null,
   "metadata": {},
   "outputs": [],
   "source": []
  },
  {
   "cell_type": "code",
   "execution_count": 1,
   "metadata": {},
   "outputs": [
    {
     "name": "stdout",
     "output_type": "stream",
     "text": [
      "value of variable a:  10\n",
      "data type of variable a:  <class 'int'>\n",
      "value of variable b:  90.99\n",
      "data type of variable b:  <class 'float'>\n",
      "value of variable c:  True\n",
      "data type of variable a:  <class 'bool'>\n",
      "value of variable d:  False\n",
      "data type of variable a:  <class 'bool'>\n",
      "value of variable e:  (5+4j)\n",
      "data type of variable e:  <class 'complex'>\n",
      "value of variable f:  10\n",
      "data type of variable f:  <class 'str'>\n",
      "value of variable g:  python\n",
      "data type of variable g:  <class 'str'>\n"
     ]
    }
   ],
   "source": [
    "a = 10\n",
    "print(\"value of variable a: \", a)\n",
    "print(\"data type of variable a: \",type(a)) #type inbuilt function for identifying datatype or data structure of a value\n",
    "\n",
    "b = 90.99\n",
    "print(\"value of variable b: \", b)\n",
    "print(\"data type of variable b: \",type(b))\n",
    "\n",
    "c = True\n",
    "print(\"value of variable c: \", c)\n",
    "print(\"data type of variable a: \",type(c))\n",
    "\n",
    "d = False\n",
    "print(\"value of variable d: \", d)\n",
    "print(\"data type of variable a: \",type(d))\n",
    "\n",
    "e = 5+4j\n",
    "print(\"value of variable e: \", e)\n",
    "print(\"data type of variable e: \",type(e))\n",
    "\n",
    "f = \"10\"\n",
    "print(\"value of variable f: \", f)\n",
    "print(\"data type of variable f: \",type(f))\n",
    "\n",
    "g = \"python\"\n",
    "print(\"value of variable g: \", g)\n",
    "print(\"data type of variable g: \",type(g))"
   ]
  },
  {
   "cell_type": "code",
   "execution_count": 10,
   "metadata": {},
   "outputs": [
    {
     "name": "stdout",
     "output_type": "stream",
     "text": [
      "hi welcome to python class\n",
      "This is related to python programming basics\n",
      "and some basic programs\n",
      "Thanks \n"
     ]
    }
   ],
   "source": [
    "#triple single/double quotes\n",
    "\n",
    "\n",
    "a = \"hello world\"\n",
    "\n",
    "b = 'hello wrold'\n",
    "\n",
    "\n",
    "h = \"\"\"hi welcome to python class\n",
    "This is related to python programming basics\n",
    "and some basic programs\n",
    "Thanks \"\"\"\n",
    "\n",
    "g = '''hi welcome to python class\n",
    "This is related to python programming basics\n",
    "and some basic programs\n",
    "Thanks '''\n",
    "\n",
    "print(h)"
   ]
  },
  {
   "cell_type": "code",
   "execution_count": 16,
   "metadata": {},
   "outputs": [
    {
     "name": "stdout",
     "output_type": "stream",
     "text": [
      "this class is explanation for '  and \"  quotes \n"
     ]
    }
   ],
   "source": [
    "a = \"\"\"this class is explanation for '  and \"  quotes \"\"\"\n",
    "print(a)"
   ]
  },
  {
   "cell_type": "code",
   "execution_count": 14,
   "metadata": {},
   "outputs": [],
   "source": [
    "a = \"I'm fine\""
   ]
  },
  {
   "cell_type": "code",
   "execution_count": 15,
   "metadata": {},
   "outputs": [
    {
     "name": "stdout",
     "output_type": "stream",
     "text": [
      "I'm fine\n"
     ]
    }
   ],
   "source": [
    "print(a)"
   ]
  },
  {
   "cell_type": "code",
   "execution_count": 4,
   "metadata": {},
   "outputs": [
    {
     "name": "stdout",
     "output_type": "stream",
     "text": [
      "I'm fine\n"
     ]
    }
   ],
   "source": [
    "#single quote and double quote\n",
    "\n",
    "\n",
    "#\" \" and ' ' ===> both are same\n",
    "\n",
    "a = \"I'm fine\"\n",
    "\n",
    "\n",
    "\n",
    "#escape sequence\n",
    "\n",
    "b= 'I\\'m fine'\n",
    "\n",
    "print(b)\n",
    "\n",
    "\n",
    "b = \" '  and \"  are called as quotes in python \"\n",
    "\n"
   ]
  },
  {
   "cell_type": "code",
   "execution_count": 5,
   "metadata": {},
   "outputs": [
    {
     "name": "stdout",
     "output_type": "stream",
     "text": [
      "17\n",
      "-5\n",
      "78\n",
      "5.5\n"
     ]
    }
   ],
   "source": [
    "#operator\n",
    "\n",
    "\n",
    "#ternary/Arithmetic/comparison/logical/assignment/membership\n",
    "\n",
    "#used to perfom some operation\n",
    "\n",
    "#Arithmetic operator\n",
    "\n",
    "# + - * / ** % //\n",
    "\n",
    "#Basic ops\n",
    "\n",
    "print(7 + 10) #17\n",
    "\n",
    "print(17 - 22) #-5\n",
    "\n",
    "print(13 * 6) #78\n",
    "\n",
    "print(22 / 4) #5.4\n",
    "\n",
    "\n"
   ]
  },
  {
   "cell_type": "code",
   "execution_count": null,
   "metadata": {},
   "outputs": [],
   "source": [
    "#** power operator\n",
    "\n",
    "print(2 ** 5) #2 * 2 * 2 * 2* 2 #32\n",
    "print(-3 ** 3) #-27\n",
    "print(10 ** 4) #10000\n",
    "print(8 ** 3) #512\n",
    "\n",
    "\n",
    "#% Modulus operator\n",
    "\n",
    "print(13 % 3) #1\n",
    "print(20 % 7) #6\n",
    "print(15 % 4) #3\n",
    "print(20 % 9) #2\n",
    "\n",
    "\n",
    "#12 % 6 ===> 0\n",
    "#13 % 6 ===> 1\n",
    "#14 % 6 ===> 2\n",
    "\n",
    "\n",
    "\n",
    "#//  floor div\n",
    "\n",
    "#Do normal divison\n",
    "#plot you value in scale\n",
    "#identify small value\n",
    "\n",
    "print(5 // 2)\n",
    "\n",
    "#5/2 ===> 2.5\n",
    "#-5 -4 -3 -2 -1 0 1 2 3 4 5\n",
    "#2 and 3 ===> 2 is the minimum\n",
    "#Ans: 2\n",
    "\n",
    "print(-5 // 2)\n",
    "\n",
    "#-5/2 ==> -2.5\n",
    "#-5 -4 -3 -2 -1 0 1 2 3 4 5\n",
    "#-3 and -2 ===> -3 is minimum\n",
    "#-5 // 2 ===> -3\n",
    "\n",
    "\n",
    "print(299 // 100)\n",
    "print(-299 // 100)\n",
    "\n",
    "print(7 // 2) #3\n",
    "print(5 // 4) # 1\n",
    "print(-5 // 2) # -3\n",
    "print(-20 // 2) #-10\n",
    "print(-10 // 4) #-3\n",
    "print(20 // 8) #2\n",
    "\n",
    "\n",
    "# 12 students \n",
    "\n",
    "# 63 note books\n",
    "\n",
    "print(63 // 12)"
   ]
  },
  {
   "cell_type": "code",
   "execution_count": 1,
   "metadata": {},
   "outputs": [
    {
     "name": "stdout",
     "output_type": "stream",
     "text": [
      "2\n",
      "-3\n"
     ]
    }
   ],
   "source": [
    "\n",
    "print(299 // 100) #2\n",
    "print(-299 // 100) #-3\n"
   ]
  },
  {
   "cell_type": "code",
   "execution_count": 6,
   "metadata": {},
   "outputs": [
    {
     "name": "stdout",
     "output_type": "stream",
     "text": [
      "5\n"
     ]
    }
   ],
   "source": [
    "print(63 // 12)"
   ]
  },
  {
   "cell_type": "code",
   "execution_count": 8,
   "metadata": {},
   "outputs": [
    {
     "name": "stdout",
     "output_type": "stream",
     "text": [
      "<class 'complex'>\n",
      "5.0\n",
      "4.0\n"
     ]
    }
   ],
   "source": [
    "a = 5 + 4j\n",
    "\n",
    "print(type(a))\n",
    "print(a.real)\n",
    "print(a.imag)"
   ]
  },
  {
   "cell_type": "code",
   "execution_count": null,
   "metadata": {},
   "outputs": [],
   "source": [
    "#print function"
   ]
  },
  {
   "cell_type": "code",
   "execution_count": null,
   "metadata": {},
   "outputs": [],
   "source": [
    "#floor divison\n",
    "#round\n",
    "#ceil \n",
    "\n",
    "\n",
    "5 floor  2 ==> 2\n",
    "5 ceil   2 ==> 3\n",
    "5 round 2  ==>"
   ]
  },
  {
   "cell_type": "code",
   "execution_count": 1,
   "metadata": {},
   "outputs": [
    {
     "name": "stdout",
     "output_type": "stream",
     "text": [
      "1.4\n",
      "-1.4\n"
     ]
    }
   ],
   "source": [
    "print(7 / 5)\n",
    "print(-7 / 5)"
   ]
  },
  {
   "cell_type": "code",
   "execution_count": 8,
   "metadata": {},
   "outputs": [
    {
     "name": "stdout",
     "output_type": "stream",
     "text": [
      "True\n",
      "False\n",
      "False\n",
      "True\n",
      "True\n",
      "True\n",
      "False\n",
      "True\n",
      "True\n"
     ]
    }
   ],
   "source": [
    "#comparison/logical/assignment/membership\n",
    "\n",
    "a = 10\n",
    "b = 3\n",
    "\n",
    "#< > <= >= != ==\n",
    "#boolean datatype output\n",
    "\n",
    "print(a > b)\n",
    "print(a < b)\n",
    "print(a == b)\n",
    "print(a != b)\n",
    "\n",
    "\n",
    "#= ===> assignment operator\n",
    "\n",
    "\n",
    "#and or not ===> logical operators\n",
    "\n",
    "#For multiple compares\n",
    "\n",
    "print(a > b and a != b)\n",
    "#AND  if all the condition true then it returns true otherwise false\n",
    "\n",
    "#OR if all the condition false then it returns false otherwise true\n",
    "\n",
    "\n",
    "#membership in ==> for loop, checking substring\n",
    "\n",
    "print(\"py\" in \"python\")\n",
    "print(\"z\" in \"python\")\n",
    "\n",
    "print(10 in [12,13,14,10,12,8,7])\n",
    "\n",
    "print(\"z\" not in \"python\")\n",
    "\n"
   ]
  },
  {
   "cell_type": "code",
   "execution_count": 9,
   "metadata": {},
   "outputs": [
    {
     "name": "stdout",
     "output_type": "stream",
     "text": [
      "4\n",
      "5\n",
      "6\n",
      "7\n",
      "3\n",
      "2\n"
     ]
    }
   ],
   "source": [
    "Li = [4,5,6,7,3,2]\n",
    "\n",
    "for i in Li:\n",
    "    print(i)"
   ]
  },
  {
   "cell_type": "code",
   "execution_count": null,
   "metadata": {},
   "outputs": [],
   "source": [
    "#Data structure or sequences:\n",
    "\n",
    "#List\n",
    "\n",
    "#Tuple\n",
    "\n",
    "#set\n",
    "\n",
    "#Dictionary\n",
    "\n",
    "#collection/set of elements\n",
    "\n",
    "a = \"name\"\n",
    "b = \"address\"\n",
    "c = \"train name\"\n",
    "\n",
    "value = [\"name\", \"address\", \"train name\", \"train number\"]\n",
    "\n",
    "#Function:\n",
    "\n",
    "#Function def ==> redundant code\n",
    "#Function call ? \n",
    "\n",
    "#set \n",
    "\n",
    "#Inbuilt functions ==> \n",
    "\n",
    "#defined in installed package\n",
    "\n",
    "#User def function  ==> function def and function call \n",
    "\n",
    "#recursive function\n",
    "\n"
   ]
  },
  {
   "cell_type": "code",
   "execution_count": 17,
   "metadata": {},
   "outputs": [
    {
     "name": "stdout",
     "output_type": "stream",
     "text": [
      "4\n",
      "15\n",
      "<class 'str'>\n",
      "<class 'int'>\n",
      "<class 'list'>\n"
     ]
    }
   ],
   "source": [
    "\n",
    "#len function\n",
    "\n",
    "a = \" python $$$ ^^#\" #\" \" \"p\" \"y\" \"t\" \"h\" \"o\" \"n\" \" \"\n",
    "\n",
    "\n",
    "\n",
    "value = [\"name\", \"address\", \"train name\", \"train number\"]\n",
    "\n",
    "print(len(value))\n",
    "print(len(a))\n",
    "\n",
    "b = 4\n",
    "\n",
    "#print(len(b))\n",
    "\n",
    "print(type(a))\n",
    "print(type(b))\n",
    "print(type(value))\n",
    "\n",
    "#type function\n",
    "\n",
    "#==> data type or data structure\n",
    "\n",
    "\n"
   ]
  },
  {
   "cell_type": "code",
   "execution_count": 5,
   "metadata": {},
   "outputs": [
    {
     "name": "stdout",
     "output_type": "stream",
     "text": [
      "hello\n",
      "welcome\n",
      "python\n",
      "7\n",
      "8\n"
     ]
    }
   ],
   "source": [
    "hello = \"welcome\"\n",
    "var = \"python\"\n",
    "\n",
    "print(\"hello\") #print(\"hello\", end=\"\\n\")\n",
    "print(hello) \n",
    "print(var)\n",
    "print(7)\n",
    "print(8)"
   ]
  },
  {
   "cell_type": "code",
   "execution_count": 6,
   "metadata": {},
   "outputs": [
    {
     "name": "stdout",
     "output_type": "stream",
     "text": [
      "hello\thello$$"
     ]
    }
   ],
   "source": [
    "print(\"hello\", end=\"\\t\")\n",
    "print(\"hello\", end=\"$$\")"
   ]
  },
  {
   "cell_type": "code",
   "execution_count": 7,
   "metadata": {},
   "outputs": [
    {
     "name": "stdout",
     "output_type": "stream",
     "text": [
      "10 20 30\n"
     ]
    }
   ],
   "source": [
    "print(10,20,30) #print(10,20,30,sep=\" \")\n",
    "#print(10,20,30, sep=\"&&\")"
   ]
  },
  {
   "cell_type": "code",
   "execution_count": 23,
   "metadata": {},
   "outputs": [
    {
     "name": "stdout",
     "output_type": "stream",
     "text": [
      "10 20^^hello\t100\n",
      "(20+5j)*"
     ]
    }
   ],
   "source": [
    "#print function ==> end spe\n",
    "\n",
    "print(10, end=\" \")\n",
    "print(20, end = \"^^\")\n",
    "print(\"hello\",end=\"\\t\")\n",
    "print(100)\n",
    "print(20 + 5j,end = \"*\")"
   ]
  },
  {
   "cell_type": "code",
   "execution_count": 27,
   "metadata": {},
   "outputs": [
    {
     "name": "stdout",
     "output_type": "stream",
     "text": [
      "10&&20&&30\n"
     ]
    }
   ],
   "source": [
    "print(10,20,30, sep=\"&&\")"
   ]
  },
  {
   "cell_type": "code",
   "execution_count": 2,
   "metadata": {},
   "outputs": [
    {
     "name": "stdout",
     "output_type": "stream",
     "text": [
      "10\n",
      "20\n",
      "30^^40^^50**60$$708090\n"
     ]
    }
   ],
   "source": [
    "print(10)\n",
    "print(20)\n",
    "print(30,40,50,end=\"**\",sep=\"^^\")\n",
    "print(60,70,end=\"80\",sep=\"$$\")\n",
    "print(90)"
   ]
  },
  {
   "cell_type": "code",
   "execution_count": 10,
   "metadata": {},
   "outputs": [
    {
     "name": "stdout",
     "output_type": "stream",
     "text": [
      "10\n",
      "<class 'int'>\n",
      "10.0\n",
      "<class 'float'>\n",
      "10.99\n",
      "<class 'float'>\n",
      "10\n",
      "<class 'int'>\n",
      "10.99\n",
      "<class 'float'>\n",
      "10.99\n",
      "<class 'str'>\n"
     ]
    },
    {
     "ename": "ValueError",
     "evalue": "invalid literal for int() with base 10: 'python'",
     "output_type": "error",
     "traceback": [
      "\u001b[1;31m---------------------------------------------------------------------------\u001b[0m",
      "\u001b[1;31mValueError\u001b[0m                                Traceback (most recent call last)",
      "\u001b[1;32m<ipython-input-10-99d7fc45e738>\u001b[0m in \u001b[0;36m<module>\u001b[1;34m\u001b[0m\n\u001b[0;32m     40\u001b[0m \u001b[0ma\u001b[0m \u001b[1;33m=\u001b[0m \u001b[1;34m\"python\"\u001b[0m\u001b[1;33m\u001b[0m\u001b[1;33m\u001b[0m\u001b[0m\n\u001b[0;32m     41\u001b[0m \u001b[1;33m\u001b[0m\u001b[0m\n\u001b[1;32m---> 42\u001b[1;33m \u001b[0mb\u001b[0m \u001b[1;33m=\u001b[0m \u001b[0mint\u001b[0m\u001b[1;33m(\u001b[0m\u001b[0ma\u001b[0m\u001b[1;33m)\u001b[0m\u001b[1;33m\u001b[0m\u001b[1;33m\u001b[0m\u001b[0m\n\u001b[0m\u001b[0;32m     43\u001b[0m \u001b[1;33m\u001b[0m\u001b[0m\n\u001b[0;32m     44\u001b[0m \u001b[0mprint\u001b[0m\u001b[1;33m(\u001b[0m\u001b[0ma\u001b[0m\u001b[1;33m)\u001b[0m\u001b[1;33m\u001b[0m\u001b[1;33m\u001b[0m\u001b[0m\n",
      "\u001b[1;31mValueError\u001b[0m: invalid literal for int() with base 10: 'python'"
     ]
    }
   ],
   "source": [
    "#int ===>\n",
    "\n",
    "\n",
    "int ===> float str  bool\n",
    "float ===> int bool str\n",
    "bool ===> int float str\n",
    "str ===> int bool float\n",
    "\n",
    "\n",
    "#int to float conversion\n",
    "a = 10\n",
    "\n",
    "b = float(a)\n",
    "\n",
    "print(a)\n",
    "print(type(a))\n",
    "print(b)\n",
    "print(type(b))\n",
    "\n",
    "#float ===>\n",
    "\n",
    "a = 10.99\n",
    "\n",
    "b = int(a)\n",
    "\n",
    "print(a)\n",
    "print(type(a))\n",
    "print(b)\n",
    "print(type(b))\n",
    "\n",
    "#float to str\n",
    "\n",
    "a = 10.99\n",
    "\n",
    "b = str(a)\n",
    "\n",
    "print(a)\n",
    "print(type(a))\n",
    "print(b)\n",
    "print(type(b))\n",
    "\n",
    "#bool ===>\n",
    "\n",
    "#str ===>\n",
    "\n",
    "a = \"python\"\n",
    "\n",
    "b = int(a)\n",
    "\n",
    "print(a)\n",
    "print(type(a))\n",
    "print(b)\n",
    "print(type(b))\n",
    "\n",
    "#String ==> generic data type "
   ]
  },
  {
   "cell_type": "code",
   "execution_count": 17,
   "metadata": {},
   "outputs": [
    {
     "name": "stdout",
     "output_type": "stream",
     "text": [
      "10\n",
      "give me one number10\n",
      "10\n",
      "<class 'str'>\n"
     ]
    }
   ],
   "source": [
    "a = 10\n",
    "\n",
    "print(a)\n",
    "\n",
    "\n",
    "b = input(\"give me one number\") #generic data type\n",
    "\n",
    "print(b)\n",
    "print(type(b))\n",
    "\n"
   ]
  },
  {
   "cell_type": "code",
   "execution_count": 19,
   "metadata": {},
   "outputs": [
    {
     "name": "stdout",
     "output_type": "stream",
     "text": [
      "please enter a integer: 67\n",
      "67\n",
      "<class 'str'>\n"
     ]
    }
   ],
   "source": [
    "d = input(\"please enter a integer: \") #integer \n",
    "print(int(d))\n",
    "print(type(d))\n"
   ]
  },
  {
   "cell_type": "code",
   "execution_count": 20,
   "metadata": {},
   "outputs": [
    {
     "name": "stdout",
     "output_type": "stream",
     "text": [
      "please enter a integer: 67\n",
      "67\n",
      "<class 'int'>\n"
     ]
    }
   ],
   "source": [
    "d = int(input(\"please enter a integer: \")) #integer \n",
    "print(d)\n",
    "print(type(d))"
   ]
  },
  {
   "cell_type": "code",
   "execution_count": null,
   "metadata": {},
   "outputs": [],
   "source": [
    "d = input(\"please enter a integer: \") #integer \n",
    "d = int(d)\n",
    "print(type(d))"
   ]
  },
  {
   "cell_type": "code",
   "execution_count": null,
   "metadata": {},
   "outputs": [],
   "source": []
  },
  {
   "cell_type": "code",
   "execution_count": 12,
   "metadata": {},
   "outputs": [
    {
     "name": "stdout",
     "output_type": "stream",
     "text": [
      "10\n",
      "<class 'int'>\n",
      "20.99\n",
      "<class 'float'>\n",
      "please enter a string: python\n",
      "python\n",
      "<class 'str'>\n",
      "please enter a integer: computer\n"
     ]
    },
    {
     "ename": "ValueError",
     "evalue": "invalid literal for int() with base 10: 'computer'",
     "output_type": "error",
     "traceback": [
      "\u001b[1;31m---------------------------------------------------------------------------\u001b[0m",
      "\u001b[1;31mValueError\u001b[0m                                Traceback (most recent call last)",
      "\u001b[1;32m<ipython-input-12-a4d71f2c42c0>\u001b[0m in \u001b[0;36m<module>\u001b[1;34m\u001b[0m\n\u001b[0;32m     13\u001b[0m \u001b[1;33m\u001b[0m\u001b[0m\n\u001b[0;32m     14\u001b[0m \u001b[1;33m\u001b[0m\u001b[0m\n\u001b[1;32m---> 15\u001b[1;33m \u001b[0md\u001b[0m \u001b[1;33m=\u001b[0m \u001b[0mint\u001b[0m\u001b[1;33m(\u001b[0m\u001b[0minput\u001b[0m\u001b[1;33m(\u001b[0m\u001b[1;34m\"please enter a integer: \"\u001b[0m\u001b[1;33m)\u001b[0m\u001b[1;33m)\u001b[0m \u001b[1;31m#integer\u001b[0m\u001b[1;33m\u001b[0m\u001b[1;33m\u001b[0m\u001b[0m\n\u001b[0m\u001b[0;32m     16\u001b[0m \u001b[0mprint\u001b[0m\u001b[1;33m(\u001b[0m\u001b[0md\u001b[0m\u001b[1;33m)\u001b[0m\u001b[1;33m\u001b[0m\u001b[1;33m\u001b[0m\u001b[0m\n\u001b[0;32m     17\u001b[0m \u001b[0mprint\u001b[0m\u001b[1;33m(\u001b[0m\u001b[0mtype\u001b[0m\u001b[1;33m(\u001b[0m\u001b[0md\u001b[0m\u001b[1;33m)\u001b[0m\u001b[1;33m)\u001b[0m\u001b[1;33m\u001b[0m\u001b[1;33m\u001b[0m\u001b[0m\n",
      "\u001b[1;31mValueError\u001b[0m: invalid literal for int() with base 10: 'computer'"
     ]
    }
   ],
   "source": [
    "#input function\n",
    "a = 10\n",
    "print(a)\n",
    "print(type(a))\n",
    "\n",
    "b = 20.99\n",
    "print(b)\n",
    "print(type(b))\n",
    "\n",
    "c = input(\"please enter a string: \") #string default\n",
    "print(c)\n",
    "print(type(c))\n",
    "\n",
    "\n",
    "d = int(input(\"please enter a integer: \")) #integer \n",
    "print(int(d))\n",
    "print(type(d))\n",
    "\n",
    "\n",
    "e = float(input(\"please enter a integer: \")) #float\n",
    "print(e)\n",
    "print(type(e))\n",
    "\n",
    "f = bool(input(\"please enter a integer: \")) #bool \n",
    "print(f)\n",
    "print(type(f))\n"
   ]
  },
  {
   "cell_type": "code",
   "execution_count": null,
   "metadata": {},
   "outputs": [],
   "source": [
    "#data type conversions\n",
    "\n",
    "\n",
    "#formatting output\n",
    "#basic pgms"
   ]
  },
  {
   "cell_type": "code",
   "execution_count": 24,
   "metadata": {},
   "outputs": [
    {
     "name": "stdout",
     "output_type": "stream",
     "text": [
      "please enter breadth (float value): 12\n",
      "120.0\n",
      "44.0\n",
      "the Area of rectangle is  120\n",
      "the perimeter of rectangle is  44\n",
      "the Area of rectangle is 120\n",
      "the perimeter of rectangle is 44\n",
      "the Area of rectangle with 10 and 12.0 is 120\n",
      "the perimeter of rectangle with 10 and 12.0 is 44\n",
      "the Area of rectangle with length 10 and breadth 12.0 is 120 \n",
      "the Area of rectangle with length 10 and breadth 12.0 is 120\n",
      "the perimeter of rectangle with length 10 and breadth 12.0 is 120 \n"
     ]
    }
   ],
   "source": [
    "length = 10\n",
    "\n",
    "breadth = float(input(\"please enter breadth (float value): \"))\n",
    "\n",
    "Area = length * breadth\n",
    "perimeter = 2 * (length + breadth)\n",
    "\n",
    "print(Area)\n",
    "print(perimeter)\n",
    "\n",
    "print(\"the Area of rectangle is \",int(Area))\n",
    "print(\"the perimeter of rectangle is \",int(perimeter))\n",
    "\n",
    "print(f\"the Area of rectangle is {int(Area)}\")\n",
    "print(f\"the perimeter of rectangle is {int(perimeter)}\")\n",
    "\n",
    "print(f\"the Area of rectangle with {length} and {breadth} is {int(Area)}\")\n",
    "print(f\"the perimeter of rectangle with {length} and {breadth} is {int(perimeter)}\")\n",
    "\n",
    "print(\"the Area of rectangle with length {} and breadth {} is {} \".format(length, breadth,int(Area)))\n",
    "print(f\"the Area of rectangle with length {length} and breadth {breadth} is {int(Area)}\")\n",
    "\n",
    "print(\"the perimeter of rectangle with length {} and breadth {} is {} \".format(length, breadth,int(Area)))"
   ]
  },
  {
   "cell_type": "code",
   "execution_count": null,
   "metadata": {},
   "outputs": [],
   "source": []
  },
  {
   "cell_type": "code",
   "execution_count": 21,
   "metadata": {},
   "outputs": [
    {
     "name": "stdout",
     "output_type": "stream",
     "text": [
      "please enter breadth (float value): 2.5\n",
      "25.0\n",
      "25.0\n",
      "the Area of rectangle is  25\n",
      "the perimeter of rectangle is  25\n",
      "the Area of rectangle is 25\n",
      "the perimeter of rectangle is 25\n",
      "the Area of rectangle with length 10 and breadth 2.5 is 25 \n",
      "the Area of rectangle with length 10 and breadth 2.5 is 25\n",
      "the perimeter of rectangle with length 10 and breadth 2.5 is 25 \n"
     ]
    }
   ],
   "source": [
    "#area of rectangle l * b\n",
    "#perimeter of rectange 2l + 2b\n",
    "\n",
    "#length = 10\n",
    "#bre = collect it from user as floating number\n",
    "\n",
    "#calculate area and perimeter\n",
    "#print the output (integer)\n",
    "\n",
    "length = 10\n",
    "\n",
    "breadth = float(input(\"please enter breadth (float value): \"))\n",
    "\n",
    "Area = length * breadth\n",
    "perimeter = 2 * (length + breadth)\n",
    "\n",
    "print(Area)\n",
    "print(perimeter)\n",
    "\n",
    "#formatted output\n",
    "print(\"the Area of rectangle is \",int(Area))\n",
    "print(\"the perimeter of rectangle is \",int(perimeter))\n",
    "\n",
    "print(f\"the Area of rectangle is {int(Area)}\")\n",
    "print(f\"the perimeter of rectangle is {int(perimeter)}\")\n",
    "\n",
    "#format\n",
    "print(\"the Area of rectangle with length {} and breadth {} is {} \".format(length, breadth,int(Area)))\n",
    "print(f\"the Area of rectangle with length {length} and breadth {breadth} is {int(Area)}\")\n",
    "\n",
    "\n",
    "print(\"the perimeter of rectangle with length {} and breadth {} is {} \".format(length, breadth,int(Area)))"
   ]
  },
  {
   "cell_type": "code",
   "execution_count": 22,
   "metadata": {},
   "outputs": [
    {
     "name": "stdout",
     "output_type": "stream",
     "text": [
      "please enter breadth (float value): 5.8\n",
      "the Area of rectangle with breadth 5.8 and length 10 is 58 \n"
     ]
    }
   ],
   "source": [
    "length = 10\n",
    "\n",
    "breadth = float(input(\"please enter breadth (float value): \"))\n",
    "\n",
    "Area = length * breadth\n",
    "perimeter = 2 * (length + breadth)\n",
    "\n",
    "print(\"the Area of rectangle with breadth {1} and length {0} is {2} \".format(length, breadth,int(Area)))"
   ]
  },
  {
   "cell_type": "code",
   "execution_count": null,
   "metadata": {},
   "outputs": [],
   "source": [
    "#collect length , breadth , height from user (all of them in float datatype)\n",
    "#calculate area of geometry : (length * breadth) + (length * height) ==> int format\n",
    "\n",
    "#Expected output:\n",
    "\n",
    "The Area of Geometry with length {} , breadth {} and height {} is {}\n"
   ]
  },
  {
   "cell_type": "code",
   "execution_count": 1,
   "metadata": {},
   "outputs": [
    {
     "name": "stdout",
     "output_type": "stream",
     "text": [
      "\n",
      "Please wait a moment while I gather a list of all available modules...\n",
      "\n"
     ]
    },
    {
     "name": "stderr",
     "output_type": "stream",
     "text": [
      "C:\\Users\\kanna\\Anaconda3\\lib\\site-packages\\IPython\\kernel\\__init__.py:13: ShimWarning: The `IPython.kernel` package has been deprecated since IPython 4.0.You should import from ipykernel or jupyter_client instead.\n",
      "  \"You should import from ipykernel or jupyter_client instead.\", ShimWarning)\n",
      "distributed.dashboard.proxy - INFO - To route to workers diagnostics web server please install jupyter-server-proxy: python -m pip install jupyter-server-proxy\n",
      "C:\\Users\\kanna\\Anaconda3\\lib\\site-packages\\nltk\\twitter\\__init__.py:22: UserWarning: The twython library has not been installed. Some functionality from the twitter package will not be available.\n",
      "  \"The twython library has not been installed. \"\n",
      "C:\\Users\\kanna\\Anaconda3\\lib\\site-packages\\skimage\\viewer\\utils\\__init__.py:1: UserWarning: Recommended matplotlib backend is `Agg` for full skimage.viewer functionality.\n",
      "  from .core import *\n",
      "C:\\Users\\kanna\\Anaconda3\\lib\\site-packages\\sklearn\\externals\\joblib\\__init__.py:15: FutureWarning: sklearn.externals.joblib is deprecated in 0.21 and will be removed in 0.23. Please import this functionality directly from joblib, which can be installed with: pip install joblib. If this warning is raised when loading pickled models, you may need to re-serialize those models with scikit-learn 0.21+.\n",
      "  warnings.warn(msg, category=FutureWarning)\n",
      "C:\\Users\\kanna\\Anaconda3\\lib\\site-packages\\qtawesome\\iconic_font.py:312: UserWarning: You need to have a running QApplication to use QtAwesome!\n",
      "  warnings.warn(\"You need to have a running \"\n",
      "C:\\Users\\kanna\\Anaconda3\\lib\\site-packages\\tensorboard\\compat\\tensorflow_stub\\dtypes.py:541: FutureWarning: Passing (type, 1) or '1type' as a synonym of type is deprecated; in a future version of numpy, it will be understood as (type, (1,)) / '(1,)type'.\n",
      "  _np_qint8 = np.dtype([(\"qint8\", np.int8, 1)])\n",
      "C:\\Users\\kanna\\Anaconda3\\lib\\site-packages\\tensorboard\\compat\\tensorflow_stub\\dtypes.py:542: FutureWarning: Passing (type, 1) or '1type' as a synonym of type is deprecated; in a future version of numpy, it will be understood as (type, (1,)) / '(1,)type'.\n",
      "  _np_quint8 = np.dtype([(\"quint8\", np.uint8, 1)])\n",
      "C:\\Users\\kanna\\Anaconda3\\lib\\site-packages\\tensorboard\\compat\\tensorflow_stub\\dtypes.py:543: FutureWarning: Passing (type, 1) or '1type' as a synonym of type is deprecated; in a future version of numpy, it will be understood as (type, (1,)) / '(1,)type'.\n",
      "  _np_qint16 = np.dtype([(\"qint16\", np.int16, 1)])\n",
      "C:\\Users\\kanna\\Anaconda3\\lib\\site-packages\\tensorboard\\compat\\tensorflow_stub\\dtypes.py:544: FutureWarning: Passing (type, 1) or '1type' as a synonym of type is deprecated; in a future version of numpy, it will be understood as (type, (1,)) / '(1,)type'.\n",
      "  _np_quint16 = np.dtype([(\"quint16\", np.uint16, 1)])\n",
      "C:\\Users\\kanna\\Anaconda3\\lib\\site-packages\\tensorboard\\compat\\tensorflow_stub\\dtypes.py:545: FutureWarning: Passing (type, 1) or '1type' as a synonym of type is deprecated; in a future version of numpy, it will be understood as (type, (1,)) / '(1,)type'.\n",
      "  _np_qint32 = np.dtype([(\"qint32\", np.int32, 1)])\n",
      "C:\\Users\\kanna\\Anaconda3\\lib\\site-packages\\tensorboard\\compat\\tensorflow_stub\\dtypes.py:550: FutureWarning: Passing (type, 1) or '1type' as a synonym of type is deprecated; in a future version of numpy, it will be understood as (type, (1,)) / '(1,)type'.\n",
      "  np_resource = np.dtype([(\"resource\", np.ubyte, 1)])\n",
      "C:\\Users\\kanna\\Anaconda3\\lib\\site-packages\\tensorflow\\python\\framework\\dtypes.py:523: FutureWarning: Passing (type, 1) or '1type' as a synonym of type is deprecated; in a future version of numpy, it will be understood as (type, (1,)) / '(1,)type'.\n",
      "  _np_qint8 = np.dtype([(\"qint8\", np.int8, 1)])\n",
      "C:\\Users\\kanna\\Anaconda3\\lib\\site-packages\\tensorflow\\python\\framework\\dtypes.py:524: FutureWarning: Passing (type, 1) or '1type' as a synonym of type is deprecated; in a future version of numpy, it will be understood as (type, (1,)) / '(1,)type'.\n",
      "  _np_quint8 = np.dtype([(\"quint8\", np.uint8, 1)])\n",
      "C:\\Users\\kanna\\Anaconda3\\lib\\site-packages\\tensorflow\\python\\framework\\dtypes.py:525: FutureWarning: Passing (type, 1) or '1type' as a synonym of type is deprecated; in a future version of numpy, it will be understood as (type, (1,)) / '(1,)type'.\n",
      "  _np_qint16 = np.dtype([(\"qint16\", np.int16, 1)])\n",
      "C:\\Users\\kanna\\Anaconda3\\lib\\site-packages\\tensorflow\\python\\framework\\dtypes.py:526: FutureWarning: Passing (type, 1) or '1type' as a synonym of type is deprecated; in a future version of numpy, it will be understood as (type, (1,)) / '(1,)type'.\n",
      "  _np_quint16 = np.dtype([(\"quint16\", np.uint16, 1)])\n",
      "C:\\Users\\kanna\\Anaconda3\\lib\\site-packages\\tensorflow\\python\\framework\\dtypes.py:527: FutureWarning: Passing (type, 1) or '1type' as a synonym of type is deprecated; in a future version of numpy, it will be understood as (type, (1,)) / '(1,)type'.\n",
      "  _np_qint32 = np.dtype([(\"qint32\", np.int32, 1)])\n",
      "C:\\Users\\kanna\\Anaconda3\\lib\\site-packages\\tensorflow\\python\\framework\\dtypes.py:532: FutureWarning: Passing (type, 1) or '1type' as a synonym of type is deprecated; in a future version of numpy, it will be understood as (type, (1,)) / '(1,)type'.\n",
      "  np_resource = np.dtype([(\"resource\", np.ubyte, 1)])\n",
      "C:\\Users\\kanna\\Anaconda3\\lib\\pkgutil.py:107: VisibleDeprecationWarning: zmq.eventloop.minitornado is deprecated in pyzmq 14.0 and will be removed.\n",
      "    Install tornado itself to use zmq with the tornado IOLoop.\n",
      "    \n",
      "  yield from walk_packages(path, info.name+'.', onerror)\n"
     ]
    },
    {
     "name": "stdout",
     "output_type": "stream",
     "text": [
      "Crypto              brain_uuid          mccabe              sndhdr\n",
      "Cython              bs4                 menuinst            snowballstemmer\n",
      "IPython             builtins            mimetypes           socket\n",
      "OpenSSL             bz2                 mistune             socketserver\n",
      "PIL                 cProfile            mkl                 socks\n",
      "PyQt5               cachetools          mkl_fft             sockshandler\n",
      "__future__          calendar            mkl_random          sortedcollections\n",
      "_abc                certifi             mmap                sortedcontainers\n",
      "_ast                cffi                mmapfile            soupsieve\n",
      "_asyncio            cgi                 mmsystem            sphinx\n",
      "_bisect             cgitb               mock                sphinxcontrib\n",
      "_blake2             chardet             modulefinder        spyder\n",
      "_bootlocale         chunk               more_itertools      spyder_kernels\n",
      "_bz2                click               mpmath              sqlalchemy\n",
      "_cffi_backend       cloudpickle         msgpack             sqlite3\n",
      "_codecs             clyent              msilib              sre_compile\n",
      "_codecs_cn          cmath               msvcrt              sre_constants\n",
      "_codecs_hk          cmd                 multipledispatch    sre_parse\n",
      "_codecs_iso2022     code                multiprocessing     ssl\n",
      "_codecs_jp          codecs              nacl                sspi\n",
      "_codecs_kr          codeop              navigator_updater   sspicon\n",
      "_codecs_tw          collections         nbconvert           stat\n",
      "_collections        colorama            nbformat            statistics\n",
      "_collections_abc    colorsys            netbios             statsmodels\n",
      "_compat_pickle      commctrl            netrc               storemagic\n",
      "_compression        compileall          networkx            string\n",
      "_contextvars        comtypes            nltk                stringprep\n",
      "_csv                concurrent          nntplib             struct\n",
      "_ctypes             conda               nose                subprocess\n",
      "_ctypes_test        conda_build         notebook            sunau\n",
      "_datetime           conda_env           nt                  symbol\n",
      "_decimal            conda_package_handling ntpath              sympy\n",
      "_dummy_thread       conda_verify        ntsecuritycon       sympyprinting\n",
      "_elementtree        configparser        nturl2path          symtable\n",
      "_functools          contextlib          numba               sys\n",
      "_hashlib            contextlib2         numbers             sysconfig\n",
      "_heapq              contextvars         numexpr             tables\n",
      "_imp                copy                numpy               tabnanny\n",
      "_io                 copyreg             numpydoc            tarfile\n",
      "_json               crypt               oauthlib            tblib\n",
      "_locale             cryptography        odbc                telnetlib\n",
      "_lsprof             csv                 olefile             tempfile\n",
      "_lzma               ctypes              opcode              tensorboard\n",
      "_markupbase         curl                openpyxl            tensorboard_plugin_wit\n",
      "_md5                curses              operator            tensorflow\n",
      "_msi                cv2                 opt_einsum          tensorflow_estimator\n",
      "_multibytecodec     cwp                 optparse            termcolor\n",
      "_multiprocessing    cycler              os                  terminado\n",
      "_nsis               cython              packaging           test\n",
      "_opcode             cythonmagic         pandas              test_data\n",
      "_operator           cytoolz             pandocfilters       test_pycosat\n",
      "_osx_support        dask                paramiko            testpath\n",
      "_overlapped         dataclasses         parser              tests\n",
      "_pickle             datetime            parso               textwrap\n",
      "_py_abc             dateutil            partd               this\n",
      "_pydecimal          dbi                 past                threading\n",
      "_pyio               dbm                 pasta               time\n",
      "_pylief             dde                 path                timeit\n",
      "_pyrsistent_version decimal             pathlib             timer\n",
      "_pytest             decorator           pathlib2            tkinter\n",
      "_queue              defusedxml          pathtools           tlz\n",
      "_random             diff_match_patch    patsy               token\n",
      "_sha1               difflib             pdb                 tokenize\n",
      "_sha256             dis                 pep8                toolz\n",
      "_sha3               distributed         perfmon             tornado\n",
      "_sha512             distutils           pexpect             tqdm\n",
      "_signal             doctest             pickle              trace\n",
      "_sitebuiltins       docutils            pickleshare         traceback\n",
      "_socket             dummy_threading     pickletools         tracemalloc\n",
      "_sqlite3            easy_install        pip                 traitlets\n",
      "_sre                email               pipes               tty\n",
      "_ssl                encodings           pkg_resources       turtle\n",
      "_stat               ensurepip           pkginfo             turtledemo\n",
      "_string             entrypoints         pkgutil             types\n",
      "_strptime           enum                platform            typing\n",
      "_struct             errno               plistlib            ujson\n",
      "_symtable           et_xmlfile          pluggy              unicodecsv\n",
      "_system_path        fastcache           ply                 unicodedata\n",
      "_testbuffer         faulthandler        poplib              unittest\n",
      "_testcapi           filecmp             posixpath           urllib\n",
      "_testconsole        fileinput           pprint              urllib3\n",
      "_testimportmultiple filelock            profile             uu\n",
      "_testmultiphase     flake8              prometheus_client   uuid\n",
      "_thread             flask               prompt_toolkit      venv\n",
      "_threading_local    fnmatch             pstats              warnings\n",
      "_tkinter            formatter           psutil              watchdog\n",
      "_tracemalloc        fractions           pty                 wave\n",
      "_warnings           fsspec              pvectorc            wcwidth\n",
      "_weakref            ftplib              py                  weakref\n",
      "_weakrefset         functools           py_compile          webbrowser\n",
      "_win32sysloader     future              pyasn1              webencodings\n",
      "_winapi             gast                pyasn1_modules      werkzeug\n",
      "_winxptheme         gc                  pyclbr              wheel\n",
      "_yaml               genericpath         pycodestyle         widgetsnbextension\n",
      "abc                 getopt              pycosat             win2kras\n",
      "absl                getpass             pycparser           win32api\n",
      "adodbapi            gettext             pycurl              win32clipboard\n",
      "afxres              gevent              pydoc               win32com\n",
      "aifc                glob                pydoc_data          win32con\n",
      "alabaster           glob2               pydocstyle          win32console\n",
      "anaconda_navigator  google_auth_oauthlib pyexpat             win32cred\n",
      "anaconda_project    greenlet            pyflakes            win32crypt\n",
      "antigravity         grpc                pygments            win32cryptcon\n",
      "argh                gzip                pylab               win32ctypes\n",
      "argparse            h5py                pylint              win32event\n",
      "array               hashlib             pyls                win32evtlog\n",
      "asn1crypto          heapdict            pyls_jsonrpc        win32evtlogutil\n",
      "ast                 heapq               pyodbc              win32file\n",
      "astor               hmac                pyparsing           win32gui\n",
      "astroid             html                pyreadline          win32gui_struct\n",
      "astropy             html5lib            pyrsistent          win32help\n",
      "astunparse          http                pytest              win32inet\n",
      "asynchat            hypothesis          pytest_arraydiff    win32inetcon\n",
      "asyncio             idlelib             pytest_astropy_header win32job\n",
      "asyncore            idna                pytest_doctestplus  win32lz\n",
      "atexit              imageio             pytest_openfiles    win32net\n",
      "atomicwrites        imagesize           pytest_remotedata   win32netcon\n",
      "attr                imaplib             pythoncom           win32pdh\n",
      "audioop             imghdr              pytz                win32pdhquery\n",
      "autopep8            imp                 pywin               win32pdhutil\n",
      "autoreload          importlib           pywin32_bootstrap   win32pipe\n",
      "babel               importlib_metadata  pywin32_testutil    win32print\n",
      "backcall            inspect             pywintypes          win32process\n",
      "backports           intervaltree        pywt                win32profile\n",
      "base64              io                  pyximport           win32ras\n",
      "bcrypt              ipaddress           qdarkstyle          win32rcparser\n",
      "bdb                 ipykernel           qtawesome           win32security\n",
      "binascii            ipykernel_launcher  qtconsole           win32service\n",
      "binhex              ipython_genutils    qtpy                win32serviceutil\n",
      "binstar_client      ipywidgets          queue               win32timezone\n",
      "bisect              isapi               quopri              win32trace\n",
      "bitarray            isort               random              win32traceutil\n",
      "bkcharts            isympy              rasutil             win32transaction\n",
      "bleach              itertools           re                  win32ts\n",
      "bokeh               itsdangerous        readline            win32ui\n",
      "boto                jdcal               regcheck            win32uiole\n",
      "bottleneck          jedi                regutil             win32verstamp\n",
      "brain_argparse      jinja2              reprlib             win32wnet\n",
      "brain_attrs         joblib              requests            win_inet_pton\n",
      "brain_builtin_inference json                requests_oauthlib   win_unicode_console\n",
      "brain_collections   json5               rlcompleter         wincertstore\n",
      "brain_crypt         jsonschema          rmagic              winerror\n",
      "brain_curses        jupyter             rope                winioctlcon\n",
      "brain_dataclasses   jupyter_client      rsa                 winnt\n",
      "brain_dateutil      jupyter_console     rtree               winperf\n",
      "brain_fstrings      jupyter_core        ruamel_yaml         winpty\n",
      "brain_functools     jupyterlab          run                 winreg\n",
      "brain_gi            jupyterlab_server   runpy               winsound\n",
      "brain_hashlib       keras_applications  sched               winxpgui\n",
      "brain_http          keras_preprocessing scipy               winxptheme\n",
      "brain_io            keyring             scripts             wrapt\n",
      "brain_mechanize     keyword             seaborn             wsgiref\n",
      "brain_multiprocessing kiwisolver          secrets             xdrlib\n",
      "brain_namedtuple_enum lazy_object_proxy   select              xlrd\n",
      "brain_nose          lib2to3             selectors           xlsxwriter\n",
      "brain_numpy_core_fromnumeric libarchive          send2trash          xlwings\n",
      "brain_numpy_core_function_base libfuturize         servicemanager      xlwt\n",
      "brain_numpy_core_multiarray libpasteurize       setuptools          xml\n",
      "brain_numpy_core_numeric lief                shelve              xmlrpc\n",
      "brain_numpy_core_numerictypes linecache           shlex               xmltodict\n",
      "brain_numpy_core_umath llvmlite            shutil              xxsubtype\n",
      "brain_numpy_ndarray locale              signal              yaml\n",
      "brain_numpy_random_mtrand locket              simplegeneric       yapf\n",
      "brain_numpy_utils   logging             singledispatch      yapftests\n",
      "brain_pkg_resources lxml                singledispatch_helpers zict\n",
      "brain_pytest        lzma                sip                 zipapp\n",
      "brain_qt            macpath             sipconfig           zipfile\n",
      "brain_random        mailbox             sipdistutils        zipimport\n",
      "brain_re            mailcap             site                zipp\n",
      "brain_six           markdown            six                 zlib\n",
      "brain_ssl           markupsafe          skimage             zmq\n",
      "brain_subprocess    marshal             sklearn             \n",
      "brain_threading     math                smtpd               \n",
      "brain_typing        matplotlib          smtplib             \n",
      "\n",
      "Enter any module name to get more help.  Or, type \"modules spam\" to search\n",
      "for modules whose name or summary contain the string \"spam\".\n",
      "\n"
     ]
    }
   ],
   "source": [
    "help(\"modules\")"
   ]
  },
  {
   "cell_type": "code",
   "execution_count": 2,
   "metadata": {},
   "outputs": [
    {
     "name": "stdout",
     "output_type": "stream",
     "text": [
      "5.5\n"
     ]
    }
   ],
   "source": [
    "import statistics\n",
    "\n",
    "print(statistics.median([5,6,4,7,3,9,10,-3]))"
   ]
  },
  {
   "cell_type": "code",
   "execution_count": null,
   "metadata": {},
   "outputs": [],
   "source": []
  }
 ],
 "metadata": {
  "kernelspec": {
   "display_name": "Python 3",
   "language": "python",
   "name": "python3"
  },
  "language_info": {
   "codemirror_mode": {
    "name": "ipython",
    "version": 3
   },
   "file_extension": ".py",
   "mimetype": "text/x-python",
   "name": "python",
   "nbconvert_exporter": "python",
   "pygments_lexer": "ipython3",
   "version": "3.7.6"
  }
 },
 "nbformat": 4,
 "nbformat_minor": 4
}
