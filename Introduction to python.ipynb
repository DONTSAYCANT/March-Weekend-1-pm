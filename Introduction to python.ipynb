{
 "cells": [
  {
   "cell_type": "code",
   "execution_count": null,
   "metadata": {},
   "outputs": [],
   "source": [
    "Requirement 1: python installation\n",
    "====================================    \n",
    "    \n",
    "IDE ==> Integrated development Environment\n",
    "\n",
    "\n",
    "IDLE   ==> https://www.python.org/downloads/\n",
    "pycharm\n",
    "Jupyter Notebook\n",
    "\n",
    "\n",
    "\n",
    "Requirement 2: Hackerrank Account creation and Login\n",
    "=====================================================\n",
    "\n",
    "Competitive programming \n",
    "    \n",
    "    \n",
    "https://www.hackerrank.com/\n",
    "    \n",
    "Signup for developers\n",
    "Login for developers\n",
    "Go through the environment\n",
    "\n",
    "400 points in python track\n",
    "300 points in regex track\n",
    "\n",
    "\n",
    "Requirement 3: Github\n",
    "========================\n",
    "\n",
    "Version controlled storage\n",
    "    \n",
    "https://github.com/ ===> Do signup\n",
    "Signin\n",
    "Create Repository\n",
    "\n",
    "Batch Repository: \n",
    "    \n",
    "    \n",
    "    \n",
    "    \n",
    "References / Books:\n",
    "    \n",
    "Tasks:\n",
    "    \n",
    "Tests\n",
    "    \n",
    "    "
   ]
  }
 ],
 "metadata": {
  "kernelspec": {
   "display_name": "Python 3",
   "language": "python",
   "name": "python3"
  },
  "language_info": {
   "codemirror_mode": {
    "name": "ipython",
    "version": 3
   },
   "file_extension": ".py",
   "mimetype": "text/x-python",
   "name": "python",
   "nbconvert_exporter": "python",
   "pygments_lexer": "ipython3",
   "version": "3.7.6"
  }
 },
 "nbformat": 4,
 "nbformat_minor": 4
}
